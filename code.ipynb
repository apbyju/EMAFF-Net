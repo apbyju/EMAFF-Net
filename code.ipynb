{
  "cells": [
    {
      "cell_type": "code",
      "execution_count": null,
      "metadata": {
        "colab": {
          "base_uri": "https://localhost:8080/"
        },
        "id": "coRnbIy8sIU5",
        "outputId": "45cd3ecf-5e06-4b09-93c1-ce6068021e25"
      },
      "outputs": [
        {
          "name": "stdout",
          "output_type": "stream",
          "text": [
            "Mounted at /content/drive\n"
          ]
        }
      ],
      "source": [
        "from google.colab import drive\n",
        "drive.mount('/content/drive')\n",
        "#copyright @lakshmi_vijayan"
      ]
    },
    {
      "cell_type": "code",
      "execution_count": null,
      "metadata": {
        "colab": {
          "background_save": true
        },
        "id": "09wAG6AfQwRU"
      },
      "outputs": [],
      "source": [
        "\n",
        "import numpy as np # linear algebra\n",
        "import pandas as pd # data processing, CSV file I/O (e.g. pd.read_csv)\n",
        "from matplotlib import pyplot as plt\n",
        "import cv2\n",
        "from keras.utils import img_to_array, load_img\n",
        "\n",
        "# from keras.preprocessing.image import load_img, img_to_array\n",
        "from keras.utils import to_categorical ,Sequence\n",
        "from keras import backend as K\n",
        "from keras.layers import Input, Conv2D,AveragePooling2D,Add, MaxPooling2D, concatenate, Conv2DTranspose, BatchNormalization, Activation, Dropout, GlobalAveragePooling2D\n",
        "from keras.optimizers import Adadelta, Nadam ,Adam\n",
        "from keras.models import Model, load_model\n",
        "from keras.callbacks import ModelCheckpoint, EarlyStopping, ReduceLROnPlateau, CSVLogger, TensorBoard\n",
        "\n",
        "import os\n",
        "# print(os.listdir(r'/content/drive/MyDrive/3. The cropped aerial image tiles and raster labels'))\n",
        "# print(os.listdir(r'/content/drive/MyDrive/512_patches/'))\n",
        "from glob import glob\n",
        "from pathlib import Path\n",
        "import shutil\n",
        "from tqdm import tqdm_notebook\n",
        "from random import sample, choice\n",
        "\n",
        "# Any results you write to the current directory are saved as output."
      ]
    },
    {
      "cell_type": "code",
      "execution_count": null,
      "metadata": {
        "id": "7p2qa3tvRm_W"
      },
      "outputs": [],
      "source": [
        "import tensorflow as tf\n",
        "from keras import callbacks, optimizers\n",
        "from keras.models import Model, load_model, model_from_json\n",
        "from keras.preprocessing import image\n",
        "from keras.layers import Input, Conv2D, MaxPooling2D, Activation, BatchNormalization, Conv2DTranspose, Concatenate, UpSampling2D, Conv1DTranspose, DepthwiseConv2D\n",
        "from keras.layers import Dropout\n",
        "from keras.activations import gelu\n",
        "from keras.callbacks import ModelCheckpoint\n",
        "from keras import backend as K\n",
        " \n",
        "\n",
        "import matplotlib.pyplot as plt\n",
        "%matplotlib inline\n",
        " \n",
        "K.set_image_data_format('channels_last')\n",
        "import time\n"
      ]
    },
    {
      "attachments": {},
      "cell_type": "markdown",
      "metadata": {
        "id": "TTIWBtehsFLT"
      },
      "source": [
        "## EDA"
      ]
    },
    {
      "cell_type": "code",
      "execution_count": null,
      "metadata": {
        "colab": {
          "base_uri": "https://localhost:8080/"
        },
        "id": "I2-j1xRBsFLV",
        "outputId": "ef550ca8-92fb-4c10-ba0c-95e1af55daef"
      },
      "outputs": [
        {
          "data": {
            "text/plain": [
              "[PosixPath('/content/drive/MyDrive/MAS_dataset_prep/new_mas_patch/test_labels'),\n",
              " PosixPath('/content/drive/MyDrive/MAS_dataset_prep/new_mas_patch/val_labels'),\n",
              " PosixPath('/content/drive/MyDrive/MAS_dataset_prep/new_mas_patch/train'),\n",
              " PosixPath('/content/drive/MyDrive/MAS_dataset_prep/new_mas_patch/val'),\n",
              " PosixPath('/content/drive/MyDrive/MAS_dataset_prep/new_mas_patch/test'),\n",
              " PosixPath('/content/drive/MyDrive/MAS_dataset_prep/new_mas_patch/train_labels')]"
            ]
          },
          "execution_count": 4,
          "metadata": {},
          "output_type": "execute_result"
        }
      ],
      "source": [
        "dataset_path = Path(r\"/content/drive/MyDrive/MAS_dataset_prep/new_mas_patch\")\n",
        "list(dataset_path.iterdir())"
      ]
    },
    {
      "cell_type": "code",
      "execution_count": null,
      "metadata": {
        "id": "P9_pgRvJsFLW"
      },
      "outputs": [],
      "source": [
        "def tree(directory):\n",
        "    print(f'+ {directory}')\n",
        "    for path in sorted(directory.rglob('*')):\n",
        "        depth = len(path.relative_to(directory).parts)\n",
        "        spacer = '    ' * depth\n",
        "        print(f'{spacer}+ {path.name}')       \n",
        "#tree(dataset_path)"
      ]
    },
    {
      "cell_type": "code",
      "execution_count": null,
      "metadata": {
        "id": "Njm5V9FKtFkU"
      },
      "outputs": [],
      "source": [
        "dataset_path"
      ]
    },
    {
      "cell_type": "code",
      "execution_count": null,
      "metadata": {
        "id": "AXq3YLnfsFLX"
      },
      "outputs": [],
      "source": [
        "train_imgs = sorted(list((dataset_path/\"train\").glob(\"*.png\")))\n",
        "train_labels = sorted(list((dataset_path/\"train_labels\").glob(\"*.png\")))\n",
        "\n",
        "val_imgs = sorted(list((dataset_path/\"val\").glob(\"*.png\")))\n",
        "val_labels = sorted(list((dataset_path/\"val_labels\").glob(\"*.png\")))\n",
        "\n",
        "test_imgs = sorted(list((dataset_path/\"test\").glob(\"*.png\")))\n",
        "test_labels = sorted(list((dataset_path/\"test_labels\").glob(\"*.png\")))\n",
        "\n",
        "(len(train_imgs),len(train_labels)), (len(test_imgs),len(test_labels))\n",
        "\n",
        "img_size = 512"
      ]
    },
    {
      "cell_type": "code",
      "execution_count": null,
      "metadata": {
        "id": "qIiCsaipVexa"
      },
      "outputs": [],
      "source": [
        "test_imgs[4]"
      ]
    },
    {
      "cell_type": "code",
      "execution_count": null,
      "metadata": {
        "id": "zlQ4-KeyVic-"
      },
      "outputs": [],
      "source": [
        "test_labels[4]"
      ]
    },
    {
      "cell_type": "code",
      "execution_count": null,
      "metadata": {
        "id": "e76xJPH0A5PT"
      },
      "outputs": [],
      "source": [
        "len(train_imgs)"
      ]
    },
    {
      "cell_type": "code",
      "execution_count": null,
      "metadata": {
        "id": "tq4uMvRrsFLZ"
      },
      "outputs": [],
      "source": [
        "def make_pair(img,label,dataset):\n",
        "    pairs = []\n",
        "    for im in img:\n",
        "        pairs.append((im , dataset / label / (im.stem +\".png\")))\n",
        "    \n",
        "    return pairs"
      ]
    },
    {
      "cell_type": "code",
      "execution_count": null,
      "metadata": {
        "id": "OO_fCMBgsFLa"
      },
      "outputs": [],
      "source": [
        "train_pair = make_pair(train_imgs,\"train_labels\", dataset_path)\n",
        "val_pair = make_pair(val_imgs,\"val_labels\", dataset_path)\n",
        "test_pair = make_pair(test_imgs, \"test_labels\", dataset_path)"
      ]
    },
    {
      "cell_type": "code",
      "execution_count": null,
      "metadata": {
        "colab": {
          "base_uri": "https://localhost:8080/"
        },
        "id": "VA34U_DisFLb",
        "outputId": "a81398fd-1098-49fb-874b-ecacab4f6352"
      },
      "outputs": [
        {
          "data": {
            "text/plain": [
              "(PosixPath('/content/drive/MyDrive/MAS_dataset_prep/new_mas_patch/val/22978945_15_0.pngpatch_01.png'),\n",
              " PosixPath('/content/drive/MyDrive/MAS_dataset_prep/new_mas_patch/val_labels/22978945_15_0.pngpatch_01.png'))"
            ]
          },
          "execution_count": 11,
          "metadata": {},
          "output_type": "execute_result"
        }
      ],
      "source": [
        "temp = choice(val_pair)\n",
        "temp\n"
      ]
    },
    {
      "cell_type": "code",
      "execution_count": null,
      "metadata": {
        "colab": {
          "base_uri": "https://localhost:8080/",
          "height": 322
        },
        "id": "uQpWWa6SsFLc",
        "outputId": "cfdedf94-8d8e-4f4f-8ada-12221797a8d5"
      },
      "outputs": [],
      "source": [
        "temp = choice(train_pair)\n",
        "img = img_to_array(load_img(temp[0], target_size=(img_size,img_size)))\n",
        "mask = img_to_array(load_img(temp[1], target_size = (img_size,img_size)))\n",
        "plt.figure(figsize=(10,10))\n",
        "plt.subplot(121)\n",
        "plt.imshow(img/255)\n",
        "plt.subplot(122)\n",
        "plt.imshow(mask/255, cmap='gray')"
      ]
    },
    {
      "cell_type": "code",
      "execution_count": null,
      "metadata": {
        "colab": {
          "base_uri": "https://localhost:8080/",
          "height": 112
        },
        "id": "wSr937wisFLc",
        "outputId": "87137cdd-adb9-4397-c126-93525ed01eb0"
      },
      "outputs": [
        {
          "data": {
            "text/html": [
              "\n",
              "  <div id=\"df-0d612054-04c1-41f4-a03b-e0c8167c1a1c\">\n",
              "    <div class=\"colab-df-container\">\n",
              "      <div>\n",
              "<style scoped>\n",
              "    .dataframe tbody tr th:only-of-type {\n",
              "        vertical-align: middle;\n",
              "    }\n",
              "\n",
              "    .dataframe tbody tr th {\n",
              "        vertical-align: top;\n",
              "    }\n",
              "\n",
              "    .dataframe thead th {\n",
              "        text-align: right;\n",
              "    }\n",
              "</style>\n",
              "<table border=\"1\" class=\"dataframe\">\n",
              "  <thead>\n",
              "    <tr style=\"text-align: right;\">\n",
              "      <th></th>\n",
              "      <th>name</th>\n",
              "      <th>r</th>\n",
              "      <th>g</th>\n",
              "      <th>b</th>\n",
              "    </tr>\n",
              "  </thead>\n",
              "  <tbody>\n",
              "    <tr>\n",
              "      <th>0</th>\n",
              "      <td>background</td>\n",
              "      <td>0</td>\n",
              "      <td>0</td>\n",
              "      <td>0</td>\n",
              "    </tr>\n",
              "    <tr>\n",
              "      <th>1</th>\n",
              "      <td>building</td>\n",
              "      <td>255</td>\n",
              "      <td>255</td>\n",
              "      <td>255</td>\n",
              "    </tr>\n",
              "  </tbody>\n",
              "</table>\n",
              "</div>\n",
              "      <button class=\"colab-df-convert\" onclick=\"convertToInteractive('df-0d612054-04c1-41f4-a03b-e0c8167c1a1c')\"\n",
              "              title=\"Convert this dataframe to an interactive table.\"\n",
              "              style=\"display:none;\">\n",
              "        \n",
              "  <svg xmlns=\"http://www.w3.org/2000/svg\" height=\"24px\"viewBox=\"0 0 24 24\"\n",
              "       width=\"24px\">\n",
              "    <path d=\"M0 0h24v24H0V0z\" fill=\"none\"/>\n",
              "    <path d=\"M18.56 5.44l.94 2.06.94-2.06 2.06-.94-2.06-.94-.94-2.06-.94 2.06-2.06.94zm-11 1L8.5 8.5l.94-2.06 2.06-.94-2.06-.94L8.5 2.5l-.94 2.06-2.06.94zm10 10l.94 2.06.94-2.06 2.06-.94-2.06-.94-.94-2.06-.94 2.06-2.06.94z\"/><path d=\"M17.41 7.96l-1.37-1.37c-.4-.4-.92-.59-1.43-.59-.52 0-1.04.2-1.43.59L10.3 9.45l-7.72 7.72c-.78.78-.78 2.05 0 2.83L4 21.41c.39.39.9.59 1.41.59.51 0 1.02-.2 1.41-.59l7.78-7.78 2.81-2.81c.8-.78.8-2.07 0-2.86zM5.41 20L4 18.59l7.72-7.72 1.47 1.35L5.41 20z\"/>\n",
              "  </svg>\n",
              "      </button>\n",
              "      \n",
              "  <style>\n",
              "    .colab-df-container {\n",
              "      display:flex;\n",
              "      flex-wrap:wrap;\n",
              "      gap: 12px;\n",
              "    }\n",
              "\n",
              "    .colab-df-convert {\n",
              "      background-color: #E8F0FE;\n",
              "      border: none;\n",
              "      border-radius: 50%;\n",
              "      cursor: pointer;\n",
              "      display: none;\n",
              "      fill: #1967D2;\n",
              "      height: 32px;\n",
              "      padding: 0 0 0 0;\n",
              "      width: 32px;\n",
              "    }\n",
              "\n",
              "    .colab-df-convert:hover {\n",
              "      background-color: #E2EBFA;\n",
              "      box-shadow: 0px 1px 2px rgba(60, 64, 67, 0.3), 0px 1px 3px 1px rgba(60, 64, 67, 0.15);\n",
              "      fill: #174EA6;\n",
              "    }\n",
              "\n",
              "    [theme=dark] .colab-df-convert {\n",
              "      background-color: #3B4455;\n",
              "      fill: #D2E3FC;\n",
              "    }\n",
              "\n",
              "    [theme=dark] .colab-df-convert:hover {\n",
              "      background-color: #434B5C;\n",
              "      box-shadow: 0px 1px 3px 1px rgba(0, 0, 0, 0.15);\n",
              "      filter: drop-shadow(0px 1px 2px rgba(0, 0, 0, 0.3));\n",
              "      fill: #FFFFFF;\n",
              "    }\n",
              "  </style>\n",
              "\n",
              "      <script>\n",
              "        const buttonEl =\n",
              "          document.querySelector('#df-0d612054-04c1-41f4-a03b-e0c8167c1a1c button.colab-df-convert');\n",
              "        buttonEl.style.display =\n",
              "          google.colab.kernel.accessAllowed ? 'block' : 'none';\n",
              "\n",
              "        async function convertToInteractive(key) {\n",
              "          const element = document.querySelector('#df-0d612054-04c1-41f4-a03b-e0c8167c1a1c');\n",
              "          const dataTable =\n",
              "            await google.colab.kernel.invokeFunction('convertToInteractive',\n",
              "                                                     [key], {});\n",
              "          if (!dataTable) return;\n",
              "\n",
              "          const docLinkHtml = 'Like what you see? Visit the ' +\n",
              "            '<a target=\"_blank\" href=https://colab.research.google.com/notebooks/data_table.ipynb>data table notebook</a>'\n",
              "            + ' to learn more about interactive tables.';\n",
              "          element.innerHTML = '';\n",
              "          dataTable['output_type'] = 'display_data';\n",
              "          await google.colab.output.renderOutput(dataTable, element);\n",
              "          const docLink = document.createElement('div');\n",
              "          docLink.innerHTML = docLinkHtml;\n",
              "          element.appendChild(docLink);\n",
              "        }\n",
              "      </script>\n",
              "    </div>\n",
              "  </div>\n",
              "  "
            ],
            "text/plain": [
              "         name    r    g    b\n",
              "0  background    0    0    0\n",
              "1    building  255  255  255"
            ]
          },
          "execution_count": 13,
          "metadata": {},
          "output_type": "execute_result"
        }
      ],
      "source": [
        "class_map_df = pd.read_csv(r\"/content/drive/MyDrive/test/label_class_dict (2).csv\")\n",
        "class_map_df\n"
      ]
    },
    {
      "cell_type": "code",
      "execution_count": null,
      "metadata": {
        "colab": {
          "base_uri": "https://localhost:8080/"
        },
        "id": "nRZwf6s4Yiws",
        "outputId": "76abe5df-6b37-4283-95b1-6ff5579fcfe4"
      },
      "outputs": [
        {
          "data": {
            "text/plain": [
              "255"
            ]
          },
          "execution_count": 14,
          "metadata": {},
          "output_type": "execute_result"
        }
      ],
      "source": [
        "class_map_df['r'][1]"
      ]
    },
    {
      "cell_type": "code",
      "execution_count": null,
      "metadata": {
        "colab": {
          "base_uri": "https://localhost:8080/",
          "height": 112
        },
        "id": "h7yLvMKdY2jY",
        "outputId": "6aba45e7-279a-41b2-b3ca-e3bb03183b95"
      },
      "outputs": [
        {
          "data": {
            "text/html": [
              "\n",
              "  <div id=\"df-cfb8e662-4b6e-4265-bfae-3afa22dd4a42\">\n",
              "    <div class=\"colab-df-container\">\n",
              "      <div>\n",
              "<style scoped>\n",
              "    .dataframe tbody tr th:only-of-type {\n",
              "        vertical-align: middle;\n",
              "    }\n",
              "\n",
              "    .dataframe tbody tr th {\n",
              "        vertical-align: top;\n",
              "    }\n",
              "\n",
              "    .dataframe thead th {\n",
              "        text-align: right;\n",
              "    }\n",
              "</style>\n",
              "<table border=\"1\" class=\"dataframe\">\n",
              "  <thead>\n",
              "    <tr style=\"text-align: right;\">\n",
              "      <th></th>\n",
              "      <th>name</th>\n",
              "      <th>r</th>\n",
              "      <th>g</th>\n",
              "      <th>b</th>\n",
              "    </tr>\n",
              "  </thead>\n",
              "  <tbody>\n",
              "    <tr>\n",
              "      <th>0</th>\n",
              "      <td>background</td>\n",
              "      <td>0</td>\n",
              "      <td>0</td>\n",
              "      <td>0</td>\n",
              "    </tr>\n",
              "    <tr>\n",
              "      <th>1</th>\n",
              "      <td>building</td>\n",
              "      <td>255</td>\n",
              "      <td>255</td>\n",
              "      <td>255</td>\n",
              "    </tr>\n",
              "  </tbody>\n",
              "</table>\n",
              "</div>\n",
              "      <button class=\"colab-df-convert\" onclick=\"convertToInteractive('df-cfb8e662-4b6e-4265-bfae-3afa22dd4a42')\"\n",
              "              title=\"Convert this dataframe to an interactive table.\"\n",
              "              style=\"display:none;\">\n",
              "        \n",
              "  <svg xmlns=\"http://www.w3.org/2000/svg\" height=\"24px\"viewBox=\"0 0 24 24\"\n",
              "       width=\"24px\">\n",
              "    <path d=\"M0 0h24v24H0V0z\" fill=\"none\"/>\n",
              "    <path d=\"M18.56 5.44l.94 2.06.94-2.06 2.06-.94-2.06-.94-.94-2.06-.94 2.06-2.06.94zm-11 1L8.5 8.5l.94-2.06 2.06-.94-2.06-.94L8.5 2.5l-.94 2.06-2.06.94zm10 10l.94 2.06.94-2.06 2.06-.94-2.06-.94-.94-2.06-.94 2.06-2.06.94z\"/><path d=\"M17.41 7.96l-1.37-1.37c-.4-.4-.92-.59-1.43-.59-.52 0-1.04.2-1.43.59L10.3 9.45l-7.72 7.72c-.78.78-.78 2.05 0 2.83L4 21.41c.39.39.9.59 1.41.59.51 0 1.02-.2 1.41-.59l7.78-7.78 2.81-2.81c.8-.78.8-2.07 0-2.86zM5.41 20L4 18.59l7.72-7.72 1.47 1.35L5.41 20z\"/>\n",
              "  </svg>\n",
              "      </button>\n",
              "      \n",
              "  <style>\n",
              "    .colab-df-container {\n",
              "      display:flex;\n",
              "      flex-wrap:wrap;\n",
              "      gap: 12px;\n",
              "    }\n",
              "\n",
              "    .colab-df-convert {\n",
              "      background-color: #E8F0FE;\n",
              "      border: none;\n",
              "      border-radius: 50%;\n",
              "      cursor: pointer;\n",
              "      display: none;\n",
              "      fill: #1967D2;\n",
              "      height: 32px;\n",
              "      padding: 0 0 0 0;\n",
              "      width: 32px;\n",
              "    }\n",
              "\n",
              "    .colab-df-convert:hover {\n",
              "      background-color: #E2EBFA;\n",
              "      box-shadow: 0px 1px 2px rgba(60, 64, 67, 0.3), 0px 1px 3px 1px rgba(60, 64, 67, 0.15);\n",
              "      fill: #174EA6;\n",
              "    }\n",
              "\n",
              "    [theme=dark] .colab-df-convert {\n",
              "      background-color: #3B4455;\n",
              "      fill: #D2E3FC;\n",
              "    }\n",
              "\n",
              "    [theme=dark] .colab-df-convert:hover {\n",
              "      background-color: #434B5C;\n",
              "      box-shadow: 0px 1px 3px 1px rgba(0, 0, 0, 0.15);\n",
              "      filter: drop-shadow(0px 1px 2px rgba(0, 0, 0, 0.3));\n",
              "      fill: #FFFFFF;\n",
              "    }\n",
              "  </style>\n",
              "\n",
              "      <script>\n",
              "        const buttonEl =\n",
              "          document.querySelector('#df-cfb8e662-4b6e-4265-bfae-3afa22dd4a42 button.colab-df-convert');\n",
              "        buttonEl.style.display =\n",
              "          google.colab.kernel.accessAllowed ? 'block' : 'none';\n",
              "\n",
              "        async function convertToInteractive(key) {\n",
              "          const element = document.querySelector('#df-cfb8e662-4b6e-4265-bfae-3afa22dd4a42');\n",
              "          const dataTable =\n",
              "            await google.colab.kernel.invokeFunction('convertToInteractive',\n",
              "                                                     [key], {});\n",
              "          if (!dataTable) return;\n",
              "\n",
              "          const docLinkHtml = 'Like what you see? Visit the ' +\n",
              "            '<a target=\"_blank\" href=https://colab.research.google.com/notebooks/data_table.ipynb>data table notebook</a>'\n",
              "            + ' to learn more about interactive tables.';\n",
              "          element.innerHTML = '';\n",
              "          dataTable['output_type'] = 'display_data';\n",
              "          await google.colab.output.renderOutput(dataTable, element);\n",
              "          const docLink = document.createElement('div');\n",
              "          docLink.innerHTML = docLinkHtml;\n",
              "          element.appendChild(docLink);\n",
              "        }\n",
              "      </script>\n",
              "    </div>\n",
              "  </div>\n",
              "  "
            ],
            "text/plain": [
              "         name    r    g    b\n",
              "0  background    0    0    0\n",
              "1    building  255  255  255"
            ]
          },
          "execution_count": 15,
          "metadata": {},
          "output_type": "execute_result"
        }
      ],
      "source": [
        "class_map_df"
      ]
    },
    {
      "cell_type": "code",
      "execution_count": null,
      "metadata": {
        "colab": {
          "base_uri": "https://localhost:8080/"
        },
        "id": "IAOnQkkNsFLd",
        "outputId": "ea759b48-ef65-4042-b5ef-267213e31cb6"
      },
      "outputs": [
        {
          "name": "stdout",
          "output_type": "stream",
          "text": [
            "[array([0, 0, 0]), array([255, 255, 255])]\n",
            "2\n"
          ]
        }
      ],
      "source": [
        "class_map = []\n",
        "for index,item in class_map_df.iterrows():\n",
        "    class_map.append(np.array([item['r'], item['g'], item['b']]))\n",
        "    \n",
        "print(class_map)\n",
        "print(len(class_map))"
      ]
    },
    {
      "cell_type": "code",
      "execution_count": null,
      "metadata": {
        "id": "V8NDLeu1sFLd"
      },
      "outputs": [],
      "source": [
        "def assert_map_range(mask,class_map):\n",
        "    mask = mask.astype(\"uint8\")\n",
        "    for j in range(img_size):\n",
        "        for k in range(img_size):\n",
        "            assert mask[j][k] in class_map , tuple(mask[j][k])"
      ]
    },
    {
      "cell_type": "code",
      "execution_count": null,
      "metadata": {
        "id": "hnf6x6NPsFLe"
      },
      "outputs": [],
      "source": [
        "def form_2D_label(mask,class_map):\n",
        "    mask = mask.astype(\"uint8\")\n",
        "    label = np.zeros(mask.shape[:2],dtype= np.uint8)\n",
        "    \n",
        "    for i, rgb in enumerate(class_map):\n",
        "        label[(mask == rgb).all(axis=2)] = i\n",
        "    \n",
        "    return label"
      ]
    },
    {
      "cell_type": "code",
      "execution_count": null,
      "metadata": {
        "colab": {
          "base_uri": "https://localhost:8080/"
        },
        "id": "2MZoBZEzsFLe",
        "outputId": "e7042ee1-2c28-4506-8091-a488c07443db"
      },
      "outputs": [
        {
          "data": {
            "text/plain": [
              "(array([0, 1], dtype=uint8), array([192378,  69766]))"
            ]
          },
          "execution_count": 19,
          "metadata": {},
          "output_type": "execute_result"
        }
      ],
      "source": [
        "lab = form_2D_label(mask,class_map)\n",
        "np.unique(lab,return_counts=True)"
      ]
    },
    {
      "cell_type": "code",
      "execution_count": null,
      "metadata": {
        "id": "2P-tANMRsFLe"
      },
      "outputs": [],
      "source": [
        "\n",
        "class DataGenerator(Sequence):\n",
        "    'Generates data for Keras'\n",
        "    \n",
        "    def __init__(self, pair, class_map, batch_size=4, dim=(512,512,3), shuffle=True):\n",
        "        'Initialization'\n",
        "        self.dim = dim\n",
        "        self.pair = pair\n",
        "        self.class_map = class_map\n",
        "        self.batch_size = batch_size\n",
        "        self.shuffle = shuffle\n",
        "        self.on_epoch_end()\n",
        "\n",
        "    def __len__(self):\n",
        "        'Denotes the number of batches per epoch'\n",
        "        return int(np.floor(len(self.pair) / self.batch_size))\n",
        "\n",
        "    def __getitem__(self, index):\n",
        "        'Generate one batch of data'\n",
        "        # Generate indexes of the batch\n",
        "        indexes = self.indexes[index*self.batch_size:(index+1)*self.batch_size]\n",
        "\n",
        "        # Find list of IDs\n",
        "        list_IDs_temp = [k for k in indexes]\n",
        "\n",
        "        # Generate data\n",
        "        X, y = self.__data_generation(list_IDs_temp)\n",
        "\n",
        "        return X, y\n",
        "\n",
        "    def on_epoch_end(self):\n",
        "        'Updates indexes after each epoch'\n",
        "        self.indexes = np.arange(len(self.pair))\n",
        "        if self.shuffle == True:\n",
        "            np.random.shuffle(self.indexes)\n",
        "\n",
        "    def __data_generation(self, list_IDs_temp):\n",
        "        'Generates data containing batch_size samples' # X : (n_samples, *dim, n_channels)\n",
        "        # Initialization\n",
        "        batch_imgs = list()\n",
        "        batch_labels = list()\n",
        "\n",
        "        # Generate data\n",
        "        for i in list_IDs_temp:\n",
        "            # Store sample\n",
        "            img = load_img(self.pair[i][0] ,target_size=self.dim)\n",
        "            img = img_to_array(img)/255.\n",
        "            batch_imgs.append(img)\n",
        "\n",
        "            label = load_img(self.pair[i][1],target_size=self.dim)\n",
        "            label = img_to_array(label)\n",
        "            label = form_2D_label(label,self.class_map)\n",
        "            label = to_categorical(label , num_classes = 2) #2\n",
        "            batch_labels.append(label)\n",
        "            \n",
        "        return np.array(batch_imgs) ,np.array(batch_labels)"
      ]
    },
    {
      "cell_type": "code",
      "execution_count": null,
      "metadata": {
        "id": "qIjxrg5XsFLf"
      },
      "outputs": [],
      "source": [
        "img_size = 512"
      ]
    },
    {
      "cell_type": "code",
      "execution_count": null,
      "metadata": {
        "colab": {
          "base_uri": "https://localhost:8080/"
        },
        "id": "uj9eV_ImsFLf",
        "outputId": "55996c31-990e-49bb-fd59-1fde5ad12916"
      },
      "outputs": [
        {
          "data": {
            "text/plain": [
              "616"
            ]
          },
          "execution_count": 45,
          "metadata": {},
          "output_type": "execute_result"
        }
      ],
      "source": [
        "train_generator = DataGenerator(train_pair,class_map,batch_size=2, dim=(img_size,img_size,3) ,shuffle=True)\n",
        "train_steps = train_generator.__len__()\n",
        "train_steps"
      ]
    },
    {
      "cell_type": "code",
      "execution_count": null,
      "metadata": {
        "id": "v7BrEzkUsFLg"
      },
      "outputs": [],
      "source": [
        "# X,y = train_generator.__getitem__(1)\n",
        "# y.shape"
      ]
    },
    {
      "cell_type": "code",
      "execution_count": null,
      "metadata": {
        "id": "aiaOqxKTsFLg"
      },
      "outputs": [],
      "source": [
        "# X_train = []\n",
        "# y_train = []\n",
        "# for i in range(train_steps):\n",
        "#     X,y = train_generator.__getitem__(i)\n",
        "#     X_train.append(X)\n",
        "#     y_train.append(y)"
      ]
    },
    {
      "cell_type": "code",
      "execution_count": null,
      "metadata": {
        "colab": {
          "base_uri": "https://localhost:8080/"
        },
        "id": "AnL8-Mj7sFLh",
        "outputId": "257b3c6c-75ca-498e-d1d7-59e8d940cc26"
      },
      "outputs": [
        {
          "data": {
            "text/plain": [
              "18"
            ]
          },
          "execution_count": 47,
          "metadata": {},
          "output_type": "execute_result"
        }
      ],
      "source": [
        "val_generator = DataGenerator(val_pair, class_map, batch_size=2, dim=(img_size,img_size,3) ,shuffle=True)\n",
        "val_steps = val_generator.__len__()\n",
        "val_steps"
      ]
    },
    {
      "cell_type": "code",
      "execution_count": null,
      "metadata": {
        "colab": {
          "base_uri": "https://localhost:8080/"
        },
        "id": "_vbDny0SYKjn",
        "outputId": "b80c51d1-47e0-4efb-83c5-4debae56c61d"
      },
      "outputs": [
        {
          "data": {
            "text/plain": [
              "22"
            ]
          },
          "execution_count": 26,
          "metadata": {},
          "output_type": "execute_result"
        }
      ],
      "source": [
        "test_generator = DataGenerator(test_pair, class_map, batch_size=4, dim=(img_size,img_size,3) ,shuffle=True)\n",
        "test_steps = test_generator.__len__()\n",
        "test_steps"
      ]
    },
    {
      "cell_type": "code",
      "execution_count": null,
      "metadata": {
        "id": "yMpRMR-bjo5E"
      },
      "outputs": [],
      "source": [
        "X_test = []\n",
        "y_test = []\n",
        "for i in range(test_steps):\n",
        "    X,y = test_generator.__getitem__(i)\n",
        "    X_test.append(X)\n",
        "    y_test.append(y)"
      ]
    },
    {
      "cell_type": "code",
      "execution_count": null,
      "metadata": {
        "id": "TPIfvmSysFLi"
      },
      "outputs": [],
      "source": [
        "image_shape = (512, 512, 3)\n",
        "from keras import layers"
      ]
    },
    {
      "cell_type": "code",
      "execution_count": null,
      "metadata": {
        "id": "4ktNszATsFLi"
      },
      "outputs": [],
      "source": [
        "def dice_coef(y_true, y_pred, smooth=1):\n",
        "    intersection = K.sum(y_true * y_pred, axis=[1,2,3]) #,3\n",
        "    union = K.sum(y_true, axis=[1,2,3]) + K.sum(y_pred, axis=[1,2,3])\n",
        "    return K.mean( (2. * intersection + smooth) / (union + smooth), axis=0)\n",
        "\n",
        "# def dice_coef(y_true, y_pred):\n",
        "\n",
        "#     y_true_f = K.flatten(y_true)\n",
        "#     y_pred_f = K.flatten(y_pred)\n",
        "#     intersection = K.sum(y_true_f * y_pred_f)\n",
        "#     return (2. * intersection + 1.0) / (K.sum(y_true_f) + K.sum(y_pred_f) + 1.0) \n",
        " \n",
        "def dice_coef_loss(y_true, y_pred):\n",
        "    return 1-dice_coef(y_true, y_pred)"
      ]
    },
    {
      "cell_type": "code",
      "execution_count": null,
      "metadata": {
        "id": "hy3NYkGJ0aly"
      },
      "outputs": [],
      "source": [
        "def atrous_1(input_tensor, num_filters, dilation):\n",
        "  b0=Conv2D(num_filters,(1,1), padding='same',dilation_rate=dilation[1], use_bias=True)(input_tensor)\n",
        "  b0=BatchNormalization()(b0)\n",
        "  # b0 = Dropout(0.3)(b0)\n",
        "  b0=Activation(\"relu\")(b0)\n",
        "\n",
        "  return b0"
      ]
    },
    {
      "cell_type": "code",
      "execution_count": null,
      "metadata": {
        "id": "t8dIw1USyzaA"
      },
      "outputs": [],
      "source": [
        "def atrous(input_tensor, num_filters, dilation):\n",
        "\n",
        "  b1=Conv2D(num_filters,kernel_size = (3,1),padding='same',dilation_rate=dilation[0], use_bias=True)(input_tensor)  \n",
        "  b1=BatchNormalization()(b1)\n",
        "  b1=Activation(\"relu\")(b1)\n",
        "\n",
        "  b1=Conv2D(num_filters,kernel_size = (1,3),padding='same',dilation_rate=dilation[1], use_bias=True)(b1)\n",
        "  b1=BatchNormalization()(b1)\n",
        "  b1_cas=Activation(\"relu\")(b1)\n",
        "\n",
        "  x=Concatenate()([input_tensor, b1_cas])\n",
        "  b1_cas=Activation(\"relu\")(x)\n",
        "\n",
        "  return b1_cas"
      ]
    },
    {
      "cell_type": "code",
      "execution_count": null,
      "metadata": {
        "id": "t46rKSM_3qRF"
      },
      "outputs": [],
      "source": [
        "def conv1x1(input_tensor, num_filters):\n",
        "  b1 = Conv2D(filters = num_filters,kernel_size = (1,1),padding=\"same\", use_bias=True)(input_tensor)\n",
        "  return b1"
      ]
    },
    {
      "cell_type": "code",
      "execution_count": null,
      "metadata": {
        "id": "FMAR4dVw1Dzr"
      },
      "outputs": [],
      "source": [
        "def center_block(input_tensor, num_filters):\n",
        "  dilation_rates = [ [18,18], [12,12], [4,4], [1,1]]\n",
        "  # a0 = conv1x1(input_tensor, num_filters)\n",
        "  # a0 = cont_drop(a0)\n",
        "\n",
        "  a1 = atrous_1(input_tensor, num_filters, dilation_rates[0])\n",
        "  a2 = atrous(input_tensor, num_filters, dilation_rates[1])\n",
        "  a3 = atrous(input_tensor, num_filters, dilation_rates[2])\n",
        "  a4 = atrous(input_tensor, num_filters, dilation_rates[3])\n",
        "\n",
        "  a1 = conv1x1(a1, num_filters)\n",
        "  a2 = conv1x1(a2, num_filters)\n",
        "  a3 = conv1x1(a3, num_filters)\n",
        "  a4 = conv1x1(a4, num_filters)\n",
        "\n",
        "  a1 = conv1x1(a1, num_filters)\n",
        "  a2 = conv1x1(a2, num_filters)\n",
        "  a3 = conv1x1(a3, num_filters)\n",
        "  a4 = conv1x1(a4, num_filters)\n",
        "\n",
        "\n",
        "  # out_shape=int(input_shape[0]/16)\n",
        "  # a5 = GlobalAveragePooling2D(out_shape,out_shape)(input_tensor)\n",
        "  # a5 = UpSampling2D((out_shape,out_shape))(a5)\n",
        "\n",
        "  x=Concatenate()([a1,a2,a3,a4])\n",
        "\n",
        "\n",
        "  return x"
      ]
    },
    {
      "cell_type": "code",
      "execution_count": null,
      "metadata": {
        "id": "il-ZQyTlL2lq"
      },
      "outputs": [],
      "source": []
    },
    {
      "cell_type": "code",
      "execution_count": null,
      "metadata": {
        "id": "V4TRmD7JSeIR"
      },
      "outputs": [],
      "source": [
        "import numpy as np\n",
        "import matplotlib.pyplot as plt\n",
        "from scipy import ndimage as ndi\n",
        "from skimage.util import random_noise\n",
        "from skimage import feature\n",
        "from PIL import Image\n",
        "from numpy import asarray"
      ]
    },
    {
      "cell_type": "code",
      "execution_count": null,
      "metadata": {
        "id": "OIpLbF3c4wpj"
      },
      "outputs": [],
      "source": [
        "\n",
        "from keras.layers import GlobalAveragePooling2D, GlobalMaxPooling2D, Reshape, Dense, Input\n",
        "from keras.layers import Activation, Concatenate, Conv2D, Multiply\n",
        "\n",
        "def channel_attention_module(x, ratio=8):\n",
        "    batch, _, _, channel = x.shape\n",
        "\n",
        "    ## Shared layers\n",
        "    l1 = Dense(channel//ratio, activation=\"relu\", use_bias=False)\n",
        "    l2 = Dense(channel, use_bias=False)\n",
        "\n",
        "    ## Global Average Pooling\n",
        "    x1 = GlobalAveragePooling2D()(x)\n",
        "    x1 = l1(x1)\n",
        "    x1 = l2(x1)\n",
        "\n",
        "    ## Global Max Pooling\n",
        "    x2 = GlobalMaxPooling2D()(x)\n",
        "    x2 = l1(x2)\n",
        "    x2 = l2(x2)\n",
        "\n",
        "    ## Add both the features and pass through sigmoid\n",
        "    feats = x1 + x2\n",
        "    feats = Activation(\"sigmoid\")(feats)\n",
        "    feats = Multiply()([x, feats])\n",
        "\n",
        "    return feats"
      ]
    },
    {
      "cell_type": "code",
      "execution_count": null,
      "metadata": {
        "id": "0mkf6wHx475Y"
      },
      "outputs": [],
      "source": [
        "def spatial_attention_module(x):\n",
        "\n",
        "    ## Average Pooling\n",
        "    x1 = tf.reduce_mean(x, axis=-1)  #from 128 give 1 channel\n",
        "    x1 = tf.expand_dims(x1, axis=-1)  #-1 -> last channel\n",
        "\n",
        "    ## Max Pooling\n",
        "    x2 = tf.reduce_max(x, axis=-1)\n",
        "    x2 = tf.expand_dims(x2, axis=-1)\n",
        "    \n",
        "\n",
        "    ## Concatenat both the features\n",
        "    feat = Concatenate()([x1, x2])\n",
        "    ## Conv layer\n",
        "    feats1 = Conv2D(1, kernel_size=3, padding=\"same\", activation=\"sigmoid\", dilation_rate=1)(feat)\n",
        "    feats2 = Conv2D(1, kernel_size=3, padding=\"same\", activation=\"sigmoid\", dilation_rate=4)(feat)\n",
        "    feats3 = Conv2D(1, kernel_size=3, padding=\"same\", activation=\"sigmoid\", dilation_rate=8)(feat)\n",
        "    feats4 = Conv2D(1, kernel_size=3, padding=\"same\", activation=\"sigmoid\", dilation_rate=12)(feat)\n",
        "\n",
        "    feats = Multiply()([x, feats1, feats2, feats3, feats4])\n",
        "\n",
        "    return feats"
      ]
    },
    {
      "cell_type": "code",
      "execution_count": null,
      "metadata": {
        "id": "R51qMuTr4-Zl"
      },
      "outputs": [],
      "source": [
        "def cbam(x):\n",
        "    x = channel_attention_module(x)\n",
        "    x = spatial_attention_module(x)\n",
        "    return x\n"
      ]
    },
    {
      "cell_type": "code",
      "execution_count": null,
      "metadata": {
        "id": "FXSyo3x5olf0"
      },
      "outputs": [],
      "source": [
        "# Building Unet by dividing encoder and decoder into blocks\n",
        "\n",
        "from keras.models import Model\n",
        "from keras.layers import Input, Conv2D,Dot, MaxPooling2D, UpSampling2D, concatenate, Conv2DTranspose, BatchNormalization, Dropout, Lambda\n",
        "from keras.optimizers import Adam\n",
        "from keras.layers import Activation, MaxPool2D, Concatenate\n",
        "\n",
        "\n",
        "def conv_block(input, num_filters):\n",
        "    x = Conv2D(num_filters, (3,3), padding=\"same\")(input)\n",
        "    x = BatchNormalization()(x)   #Not in the original network. \n",
        "    x = Activation(\"relu\")(x)\n",
        "\n",
        "    x = Conv2D(num_filters, (3,1), padding=\"same\")(x)      #1  \n",
        "    x = BatchNormalization()(x)  #Not in the original network\n",
        "    x = Activation(\"relu\")(x)\n",
        "\n",
        "    x = Conv2D(num_filters, (1,3), padding=\"same\")(x)     #1\n",
        "    x = BatchNormalization()(x)  #Not in the original network\n",
        "    x = Activation(\"relu\")(x)\n",
        "\n",
        "    return x\n",
        "\n",
        "\n",
        "def encoder_block(input, num_filters):\n",
        "    x = conv_block(input, num_filters)\n",
        "    p = MaxPool2D((2, 2))(x)\n",
        "    return x, p   \n",
        "\n",
        "\n",
        "def decoder_block(input, skip_features, num_filters):\n",
        "    x = Conv2DTranspose(num_filters, (2, 2), strides=2, padding=\"same\")(input)\n",
        "    x = Concatenate()([x, skip_features])\n",
        "    x = conv_block(x, num_filters)\n",
        "    return x\n",
        "\n",
        "def build_unet(input_shape):\n",
        "\n",
        "    inputs = Input(input_shape)\n",
        "\n",
        "    s1, p1 = encoder_block(inputs, 64)\n",
        "    s2, p2 = encoder_block(p1, 128)\n",
        "    s3, p3 = encoder_block(p2, 256)\n",
        "    s4, p4 = encoder_block(p3, 512)\n",
        "\n",
        "    ASPP = center_block(p4, 1024)\n",
        "\n",
        "    s4 = cbam(s4)\n",
        "    d1 = decoder_block(ASPP, s4, 512)\n",
        "    s3 = cbam(s3)\n",
        "    d2 = decoder_block(d1, s3, 256)\n",
        "\n",
        "    r_d1 = DepthwiseConv2D((5,5),strides=1, padding=\"same\")(d1)\n",
        "    r_d1 = Conv2DTranspose(512, (2,2),strides=2, padding=\"same\")(r_d1)\n",
        "\n",
        "    fusion_feat12 = Concatenate()([r_d1, d2])\n",
        "    s2 = cbam(s2)\n",
        "    d3 = decoder_block(fusion_feat12, s2, 128)\n",
        "    s1 = cbam(s1)\n",
        "    d4 = decoder_block(d3, s1, 64)\n",
        "  \n",
        "\n",
        "    outputs = Conv2D(2, 1, padding=\"same\", activation=\"sigmoid\")(d4)  #Binary\n",
        "#boundary refining\n",
        "    mod = atrous(outputs, 64, [8,12])\n",
        "    output = Conv2D(2, 1, padding=\"same\", activation=\"sigmoid\")(mod)  #Binary\n",
        "    x = Add()([outputs, output])\n",
        "    outputs = Conv2D(2, 1, padding=\"same\", activation=\"sigmoid\")(x)  #Binary\n",
        "\n",
        "\n",
        "    model = Model(inputs, outputs, name=\"Modified_Attention_Unet_with_Asymmetrical_feature_fusion_unit\")\n",
        "    return model\n"
      ]
    },
    {
      "cell_type": "code",
      "execution_count": null,
      "metadata": {
        "id": "ZiU-yfgKpE9r"
      },
      "outputs": [],
      "source": [
        "\n",
        "smooth=1.\n",
        "\n",
        "def dice_coef(y_true, y_pred):\n",
        "    y_true = K.flatten(y_true)\n",
        "    \n",
        "\n",
        "    y_pred = K.flatten(y_pred)\n",
        "    intersection = K.sum(y_true * y_pred)\n",
        "    union = K.sum(y_true) + K.sum(y_pred)\n",
        "    return (2.0 * intersection + smooth) / (union + smooth)\n",
        "\n",
        "\n",
        "def dice_coef_loss(y_true, y_pred):\n",
        "    return 1 - dice_coef(y_true, y_pred)\n",
        "\n",
        "def bce_dice_loss(y_true, y_pred):\n",
        "    bce = tf.keras.losses.BinaryCrossentropy(from_logits=True)\n",
        "    return dice_coef_loss(y_true, y_pred) + bce(y_true, y_pred)\n",
        "\n",
        "def iou(y_true, y_pred):\n",
        "    intersection = K.sum(y_true * y_pred)\n",
        "    sum_ = K.sum(y_true + y_pred)\n",
        "    jac = (intersection + smooth) / (sum_ - intersection + smooth)\n",
        "    return jac\n",
        "def iou_loss(y_true, y_pred):\n",
        "  return 1 - iou(y_true, y_pred)\n"
      ]
    },
    {
      "cell_type": "code",
      "execution_count": null,
      "metadata": {
        "id": "-zlp-V5HDOC6"
      },
      "outputs": [],
      "source": [
        "from keras import backend as K\n",
        "\n",
        "def recall_m(y_true, y_pred):\n",
        "    true_positives = K.sum(K.round(K.clip(y_true * y_pred, 0, 1)))\n",
        "    possible_positives = K.sum(K.round(K.clip(y_true, 0, 1)))\n",
        "    recall = true_positives / (possible_positives + K.epsilon())\n",
        "    return recall\n",
        "\n",
        "def precision_m(y_true, y_pred):\n",
        "    true_positives = K.sum(K.round(K.clip(y_true * y_pred, 0, 1)))\n",
        "    predicted_positives = K.sum(K.round(K.clip(y_pred, 0, 1)))\n",
        "    precision = true_positives / (predicted_positives + K.epsilon())\n",
        "    return precision\n",
        "\n",
        "def f1_m(y_true, y_pred):\n",
        "    precision = precision_m(y_true, y_pred)\n",
        "    recall = recall_m(y_true, y_pred)\n",
        "    return 2*((precision*recall)/(precision+recall+K.epsilon()))"
      ]
    },
    {
      "cell_type": "code",
      "execution_count": null,
      "metadata": {
        "id": "SKsG1rkh_CfY"
      },
      "outputs": [],
      "source": [
        "input_shape = (image_shape[0], image_shape[1], image_shape[2])\n",
        "model = build_unet(input_shape)\n",
        "model.compile(optimizer=Adam(lr=1e-3), loss=[dice_coef_loss], metrics=[iou, dice_coef,'acc', recall_m, precision_m, f1_m])"
      ]
    },
    {
      "cell_type": "code",
      "execution_count": null,
      "metadata": {
        "id": "MV4JyIKcowj_"
      },
      "outputs": [],
      "source": [
        "model.summary()"
      ]
    },
    {
      "cell_type": "code",
      "execution_count": null,
      "metadata": {
        "id": "R-1sHgH8sFLl"
      },
      "outputs": [],
      "source": [
        "model.optimizer.get_config()"
      ]
    },
    {
      "attachments": {},
      "cell_type": "markdown",
      "metadata": {
        "id": "J6GiqtZtnigw"
      },
      "source": [
        "Model architecture Analysis"
      ]
    },
    {
      "cell_type": "code",
      "execution_count": null,
      "metadata": {
        "id": "oH8IKso3mFqC"
      },
      "outputs": [],
      "source": [
        "layers = model.layers"
      ]
    },
    {
      "cell_type": "code",
      "execution_count": null,
      "metadata": {
        "id": "um1QQTOpmJsc"
      },
      "outputs": [],
      "source": [
        "print(\"No. of layers for our model = \",len(layers))"
      ]
    },
    {
      "cell_type": "code",
      "execution_count": null,
      "metadata": {
        "id": "StUfvPSOmvHM"
      },
      "outputs": [],
      "source": [
        "filters, biases = model.layers[1].get_weights()\n",
        "print(layers[1].name, filters.shape)  #filter details"
      ]
    },
    {
      "cell_type": "code",
      "execution_count": null,
      "metadata": {
        "id": "sYPv34Eknh6z"
      },
      "outputs": [],
      "source": [
        "fig1=plt.figure(figsize=(8, 12))\n",
        "columns = 8\n",
        "rows = 8\n",
        "n_filters = columns * rows\n",
        "for i in range(1, n_filters +1):\n",
        "    f = filters[:, :, :, i-1]\n",
        "    fig1 =plt.subplot(rows, columns, i)\n",
        "    fig1.set_xticks([])  #Turn off axis\n",
        "    fig1.set_yticks([])\n",
        "    plt.imshow(f[:, :, 0]) #Show only the filters from 0th channel (R)\n",
        "    #ix += 1\n",
        "plt.show()    "
      ]
    },
    {
      "cell_type": "code",
      "execution_count": null,
      "metadata": {
        "id": "7IvhUSDSoXpF"
      },
      "outputs": [],
      "source": [
        "#Define a new truncated model to only include the conv layers of interest\n",
        "conv_layer_index = [1, 15, 24]  #TO define a shorter model\n",
        "outputs = [model.layers[i].output for i in conv_layer_index]\n",
        "model_short = Model(inputs=model.inputs, outputs=outputs)\n",
        "model_short.summary()"
      ]
    },
    {
      "cell_type": "code",
      "execution_count": null,
      "metadata": {
        "id": "szZ2JgMnog5T"
      },
      "outputs": [],
      "source": [
        "img_path='/content/drive/MyDrive/dataset/3. The cropped image tiles and raster labels/test/image/103.tif' \n",
        "\n",
        "#Load the input image\n",
        "img = load_img(img_path, target_size=(512, 512))  \n",
        "# Convert ht image to Array of dimension (150,150,3)\n",
        "x   = img_to_array(img)                           \n",
        "x   = x.reshape((1,) + x.shape)                   \n",
        "# Rescale by 1/255\n",
        "x /= 255.0"
      ]
    },
    {
      "cell_type": "code",
      "execution_count": null,
      "metadata": {
        "id": "Zkym3PAzBpdR"
      },
      "outputs": [],
      "source": [
        "def mean_iou(y_pred, y_true):\n",
        "    if y_pred.shape.ndims > 1:\n",
        "        y_pred = array_ops.reshape(y_pred, [-1])\n",
        "\n",
        "    if y_true.shape.ndims > 1:\n",
        "        y_true = array_ops.reshape(y_true, [-1])\n",
        "    intersection = K.sum(K.sum(K.abs(y_true * y_pred), axis=-1))\n",
        "    union = K.sum(K.sum(K.abs(y_true) + K.abs(y_pred), axis=-1))\n",
        "\n",
        "    return intersection / union"
      ]
    },
    {
      "attachments": {},
      "cell_type": "markdown",
      "metadata": {
        "id": "vplA_D0eQOHz"
      },
      "source": [
        "Model training"
      ]
    },
    {
      "cell_type": "code",
      "execution_count": null,
      "metadata": {
        "id": "a4wEtrzWsFLl"
      },
      "outputs": [],
      "source": [
        "# mc = ModelCheckpoint(mode='max', filepath=checkpoint_path, monitor='val_iou', save_weights_only='True', verbose=1)\n",
        "es = EarlyStopping(mode='max', monitor='val_iou', patience=5, verbose=0)\n",
        "# tb = TensorBoard(log_dir=\"logswhu/\", histogram_freq=0, write_graph=True, write_images=False)\n",
        "# rl = ReduceLROnPlateau(monitor='val_acc',factor=0.1,patience=5,verbose=1,mode=\"max\",min_lr=0.0001)\n",
        "# cv = CSVLogger(\"/content/drive/MyDrive/logwhu.csv\" , append=True , separator=',')"
      ]
    },
    {
      "cell_type": "code",
      "execution_count": null,
      "metadata": {
        "colab": {
          "base_uri": "https://localhost:8080/"
        },
        "id": "MB6L-Heha0jc",
        "outputId": "80d39cbc-1620-4fee-ede1-a5630c234970"
      },
      "outputs": [
        {
          "name": "stderr",
          "output_type": "stream",
          "text": [
            "/usr/local/lib/python3.8/dist-packages/tensorflow/python/client/session.py:1768: UserWarning: An interactive session is already active. This can cause out-of-memory errors in some cases. You must explicitly call `InteractiveSession.close()` to release resources held by the other session(s).\n",
            "  warnings.warn('An interactive session is already active. This can '\n"
          ]
        }
      ],
      "source": [
        "gpu_options = tf.compat.v1.GPUOptions(allow_growth=True)\n",
        "session = tf.compat.v1.InteractiveSession(config=tf.compat.v1.ConfigProto(gpu_options=gpu_options))"
      ]
    },
    {
      "cell_type": "code",
      "execution_count": null,
      "metadata": {
        "colab": {
          "base_uri": "https://localhost:8080/"
        },
        "id": "eNk9JOytHlLB",
        "outputId": "93e80c4e-4d60-41e0-bf2b-46b3e206dd6b"
      },
      "outputs": [],
      "source": [
        "start = time.time()\n",
        "\n",
        "results = model.fit_generator(train_generator , steps_per_epoch=train_steps ,epochs=8,\n",
        "                              validation_data=val_generator,validation_steps=val_steps,callbacks=[es])\n",
        "stop = time.time()\n",
        "print(f\"Training time: {stop - start}s\")\n",
        "# from tensorflow import keras\n",
        "# model = keras.models.load_model('/content/drive/MyDrive/new_modelmas.h5')"
      ]
    },
    {
      "cell_type": "code",
      "execution_count": null,
      "metadata": {
        "id": "aeAa5ms9sFLm"
      },
      "outputs": [],
      "source": [
        "img_mask = choice(test_pair)\n",
        "img= img_to_array(load_img(img_mask[0] , target_size= (img_size,img_size)))\n",
        "gt_img = img_to_array(load_img(img_mask[1] , target_size= (img_size,img_size)))"
      ]
    },
    {
      "cell_type": "code",
      "execution_count": null,
      "metadata": {
        "id": "_PHipf08sFLm"
      },
      "outputs": [],
      "source": [
        "def make_prediction(model,img_path,shape):\n",
        "    img= img_to_array(load_img(img_path , target_size= shape))/255.\n",
        "    img = np.expand_dims(img,axis=0)\n",
        "    labels = model.predict(img)\n",
        "    labels = np.argmax(labels[0],axis=2)\n",
        "    return labels"
      ]
    },
    {
      "cell_type": "code",
      "execution_count": null,
      "metadata": {
        "colab": {
          "base_uri": "https://localhost:8080/"
        },
        "id": "LwbJe33WsFLm",
        "outputId": "7eab252d-6a70-4645-bf7c-85d851352517"
      },
      "outputs": [
        {
          "name": "stdout",
          "output_type": "stream",
          "text": [
            "1/1 [==============================] - 5s 5s/step\n"
          ]
        },
        {
          "data": {
            "text/plain": [
              "(512, 512)"
            ]
          },
          "execution_count": 54,
          "metadata": {},
          "output_type": "execute_result"
        }
      ],
      "source": [
        "pred_label = make_prediction(model, img_mask[0], (img_size,img_size,3))\n",
        "pred_label.shape"
      ]
    },
    {
      "cell_type": "code",
      "execution_count": null,
      "metadata": {
        "id": "YB_EsfqasFLm"
      },
      "outputs": [],
      "source": [
        "\n",
        "def form_colormap(prediction,mapping):\n",
        "    h,w = prediction.shape\n",
        "    color_label = np.zeros((h,w,3),dtype=np.uint8)    \n",
        "    color_label = mapping[prediction]\n",
        "    color_label = color_label.astype(np.uint8)\n",
        "    return color_label\n"
      ]
    },
    {
      "cell_type": "code",
      "execution_count": null,
      "metadata": {
        "id": "mpAkL-CtsFLm"
      },
      "outputs": [],
      "source": [
        "pred_colored = form_colormap(pred_label,np.array(class_map))"
      ]
    },
    {
      "cell_type": "code",
      "execution_count": null,
      "metadata": {
        "id": "nwlQHEdI5G16"
      },
      "outputs": [],
      "source": [
        "X_test = []\n",
        "y_test = []\n",
        "for i in range(test_steps):\n",
        "    X,y = test_generator.__getitem__(i)\n",
        "    X_test.append(X)\n",
        "    y_test.append(y)"
      ]
    },
    {
      "cell_type": "code",
      "execution_count": null,
      "metadata": {
        "colab": {
          "background_save": true
        },
        "id": "8IqE6g7C6s8t",
        "outputId": "ba732814-b7ef-43b6-89a7-e7ca9d0fa854"
      },
      "outputs": [],
      "source": [
        "#\n",
        "count = 0\n",
        "for i in test_pair:\n",
        "  count +=1\n",
        "  if count <= 30:\n",
        "    img_mask = i\n",
        "    img= img_to_array(load_img(img_mask[0] , target_size= (img_size,img_size)))\n",
        "    gt_img = img_to_array(load_img(img_mask[1] , target_size= (img_size,img_size)))\n",
        "    pred_label = make_prediction(model, img_mask[0], (img_size,img_size,3))\n",
        "    pred_colored = form_colormap(pred_label,np.array(class_map))\n",
        "    plt.figure(figsize=(30,30))\n",
        "    plt.subplot(131);plt.title('Original Image')\n",
        "    plt.imshow(img/255.)\n",
        "    plt.subplot(132);plt.title('True labels')\n",
        "    plt.imshow(gt_img/255.)\n",
        "    plt.subplot(133)\n",
        "    plt.imshow(pred_colored/255.);plt.title('predicted labels')\n",
        "  \n"
      ]
    },
    {
      "cell_type": "code",
      "execution_count": null,
      "metadata": {
        "colab": {
          "background_save": true
        },
        "id": "nZW9H_m56zco",
        "outputId": "aa922e12-cb18-4cc2-f7b8-41f25b2a9270"
      },
      "outputs": [],
      "source": [
        "testiou_list = []\n",
        "testmiou_list = []\n",
        "testdice_list = []\n",
        "OA = []\n",
        "precision = []\n",
        "recall = []\n",
        "f1 = []\n",
        "dice = []\n",
        "start = time.time()\n",
        "\n",
        "for i in range(test_steps):\n",
        "  test_acc = model.evaluate(X_test[i], y_test[i])\n",
        "  testiou_list.append(test_acc[1])\n",
        "  # testmiou_list.append(test_acc[2])\n",
        "  testdice_list.append(test_acc[2])\n",
        "  # OA.append(test_acc[4])\n",
        "  f1.append(test_acc[5])\n",
        "  precision.append(test_acc[4])\n",
        "  recall.append(test_acc[3])\n",
        "\n",
        "  stop = time.time()\n",
        "print(f\"Testing time: {stop - start}s\")\n"
      ]
    },
    {
      "cell_type": "code",
      "execution_count": null,
      "metadata": {
        "colab": {
          "background_save": true
        },
        "id": "Tvsmu4pT60qM",
        "outputId": "b2d4d6d5-9610-4a5c-a696-61ac589e280a"
      },
      "outputs": [
        {
          "name": "stdout",
          "output_type": "stream",
          "text": [
            "Test IoU:  0.8462419455701654\n",
            "Test dice coeff:  0.9164391783150759\n",
            "Test f1:  0.9141583659432151\n",
            "Test precision:  0.9209287816827948\n",
            "Test recall:  0.9172993139787153\n"
          ]
        }
      ],
      "source": [
        "avg_test_iou = sum(testiou_list) / len(testiou_list)\n",
        "# avg_test_miou = sum(testmiou_list) / len(testmiou_list)\n",
        "\n",
        "avg_test_dice = sum(testdice_list) / len(testdice_list)\n",
        "# OA = sum(OA) / len(OA)\n",
        "f1 = sum(f1) / len(f1)\n",
        "precision = sum(precision) / len(precision)\n",
        "recall = sum(recall) / len(recall)\n",
        "\n",
        "print(\"Test IoU: \", avg_test_iou)\n",
        "# print(\"Test mIoU: \", avg_test_miou)\n",
        "print(\"Test dice coeff: \",avg_test_dice)\n",
        "print(\"Test f1: \",f1)\n",
        "print(\"Test precision: \",precision)\n",
        "print(\"Test recall: \",recall)"
      ]
    },
    {
      "attachments": {},
      "cell_type": "markdown",
      "metadata": {},
      "source": [
        "# END"
      ]
    }
  ],
  "metadata": {
    "accelerator": "GPU",
    "colab": {
      "machine_shape": "hm",
      "provenance": []
    },
    "gpuClass": "standard",
    "kernelspec": {
      "display_name": "Python 3 (ipykernel)",
      "language": "python",
      "name": "python3"
    },
    "language_info": {
      "codemirror_mode": {
        "name": "ipython",
        "version": 3
      },
      "file_extension": ".py",
      "mimetype": "text/x-python",
      "name": "python",
      "nbconvert_exporter": "python",
      "pygments_lexer": "ipython3",
      "version": "3.9.13"
    },
    "vscode": {
      "interpreter": {
        "hash": "756c4c8cb8d2da3b6b4383a5b5c83f789d93271e7736f3f4b9a7f4247e6a8991"
      }
    }
  },
  "nbformat": 4,
  "nbformat_minor": 0
}
